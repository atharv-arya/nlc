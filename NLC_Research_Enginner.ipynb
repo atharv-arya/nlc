{
  "nbformat": 4,
  "nbformat_minor": 0,
  "metadata": {
    "colab": {
      "provenance": [],
      "authorship_tag": "ABX9TyON55cKcmRiBzGPbFB0R2Xr"
    },
    "kernelspec": {
      "name": "python3",
      "display_name": "Python 3"
    },
    "language_info": {
      "name": "python"
    }
  },
  "cells": [
    {
      "cell_type": "markdown",
      "source": [
        "### Initial setup"
      ],
      "metadata": {
        "id": "aWBqB_y_c0Rz"
      }
    },
    {
      "cell_type": "code",
      "execution_count": 3,
      "metadata": {
        "id": "J-7k4JN6U6Rk"
      },
      "outputs": [],
      "source": [
        "# Importing all basic libs\n",
        "\n",
        "import requests\n",
        "from bs4 import BeautifulSoup\n",
        "import pandas as pd\n",
        "from tqdm import tqdm\n",
        "import re\n",
        "import time"
      ]
    },
    {
      "cell_type": "code",
      "source": [
        "# BBNaija 2024 thread base url\n",
        "BASE_URL = \"https://www.nairaland.com/8156758/bbnaija-2024-live-updates-thread\"\n",
        "\n",
        "# Custom headers to mimic a browser to prevent bot detection\n",
        "HEADERS = {\n",
        "    'User-Agent': 'Mozilla/5.0 (Windows NT 10.0; Win64; x64) AppleWebKit/537.36 ' +\n",
        "                  '(KHTML, like Gecko) Chrome/122.0.0.0 Safari/537.36'\n",
        "}"
      ],
      "metadata": {
        "id": "nZgwAdzoc4yj"
      },
      "execution_count": 4,
      "outputs": []
    },
    {
      "cell_type": "markdown",
      "source": [
        "### Helper func to parse one page"
      ],
      "metadata": {
        "id": "fbIs4mwkd6jX"
      }
    },
    {
      "cell_type": "code",
      "source": [
        "def parse_page(page_num):\n",
        "    url = BASE_URL if page_num == 1 else f\"{BASE_URL}/{page_num}\"\n",
        "    response = requests.get(url, headers=HEADERS)\n",
        "\n",
        "    if response.status_code != 200:\n",
        "        print(f\"Failed to fetch page {page_num}\")\n",
        "        return []\n",
        "\n",
        "    soup = BeautifulSoup(response.text, 'html.parser')\n",
        "    posts = []\n",
        "\n",
        "    rows = soup.select('table[summary=\"posts\"] tr')\n",
        "    for i in range(0, len(rows), 2):\n",
        "        try:\n",
        "            # First row: metadata\n",
        "            meta_td = rows[i].find('td', class_='bold l pu')\n",
        "            if not meta_td:\n",
        "                continue\n",
        "\n",
        "            username_tag = meta_td.find('a', class_='user')\n",
        "            username = username_tag.text.strip() if username_tag else \"\"\n",
        "\n",
        "            timestamp_parts = meta_td.find_all('b')\n",
        "            timestamp = ' '.join([b.text.strip() for b in timestamp_parts]) if timestamp_parts else \"\"\n",
        "\n",
        "            # Gender is not explicitly labeled, so we leave it blank for now\n",
        "            gender = \"\"\n",
        "\n",
        "            # Second row: post content\n",
        "            content_td = rows[i+1].find('td', class_='l w pd')\n",
        "            content_div = content_td.find('div', class_='narrow') if content_td else None\n",
        "            post_text = content_div.get_text(separator=' ', strip=True) if content_div else \"\"\n",
        "\n",
        "            # Likes and Shares (if mentioned)\n",
        "            like_text = content_td.find('p', class_='s') if content_td else None\n",
        "            likes = 0\n",
        "            shares = 0\n",
        "            if like_text:\n",
        "                like_match = re.search(r'(\\d+)\\s+Like', like_text.text)\n",
        "                share_match = re.search(r'(\\d+)\\s+Share', like_text.text)\n",
        "                if like_match:\n",
        "                    likes = int(like_match.group(1))\n",
        "                if share_match:\n",
        "                    shares = int(share_match.group(1))\n",
        "\n",
        "            posts.append({\n",
        "                'username': username,\n",
        "                'gender': gender,\n",
        "                'timestamp': timestamp,\n",
        "                'post_text': post_text,\n",
        "                'likes': likes,\n",
        "                'shares': shares,\n",
        "                'page_number': page_num,\n",
        "                'post_url': url\n",
        "            })\n",
        "\n",
        "        except Exception as e:\n",
        "            print(f\"Error parsing post on page {page_num}: {e}\")\n",
        "            continue\n",
        "\n",
        "    return posts\n"
      ],
      "metadata": {
        "id": "nuqRq_Y7dfEV"
      },
      "execution_count": null,
      "outputs": []
    }
  ]
}